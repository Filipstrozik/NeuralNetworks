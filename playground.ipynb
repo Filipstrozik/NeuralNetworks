{
 "cells": [
  {
   "cell_type": "code",
   "execution_count": 18,
   "metadata": {},
   "outputs": [
    {
     "name": "stdout",
     "output_type": "stream",
     "text": [
      "tensor([1, 0, 1, 1, 1])\n",
      "tensor([1, 0, 1, 1, 0])\n",
      "tensor([1, 1, 0, 1, 1])\n",
      "tensor([0, 0, 1, 1, 1])\n",
      "------------------\n",
      "tensor([1, 0, 1, 1, 1])\n",
      "tensor([1, 0, 1, 1, 0])\n",
      "tensor([1, 1, 0, 1, 1])\n",
      "tensor([0, 0, 1, 1, 1])\n",
      "------------------\n",
      "tensor([0, 1, 0, 1, 0])\n",
      "tensor([1, 1, 1, 1, 1])\n",
      "tensor([1, 1, 1, 1, 1])\n",
      "tensor([0, 1, 0, 1, 0])\n"
     ]
    }
   ],
   "source": [
    "import torch\n",
    "from torch.utils.data import TensorDataset, DataLoader\n",
    "\n",
    "# Create even smaller dummy data\n",
    "data = torch.randn((10, 3, 4, 4))  # Assuming you have 10 samples, each with shape (3, 64, 64)\n",
    "labels = torch.randint(0, 2, (10,))  # Binary labels (0 or 1)\n",
    "\n",
    "# Create a TensorDataset\n",
    "tensor_dataset = TensorDataset(data, labels)\n",
    "\n",
    "#Create a Sampler to specify how you want to draw samples from the dataset\n",
    "\n",
    "\n",
    "#set seed of shuffle to get the same result\n",
    "\n",
    "# Create a DataLoader\n",
    "batch_size = 5\n",
    "shuffle = True\n",
    "num_workers = 2\n",
    "data_loader = DataLoader(tensor_dataset, batch_size=batch_size, num_workers=num_workers, shuffle=shuffle)\n",
    "\n",
    "torch.manual_seed(0)\n",
    "\n",
    "for e in range(2):\n",
    "    for i, batch in enumerate(data_loader):\n",
    "        input_data, target_labels = batch\n",
    "        print(target_labels)\n",
    "print('------------------')\n",
    "\n",
    "torch.manual_seed(0)\n",
    "\n",
    "for e in range(2):\n",
    "    for i, batch in enumerate(data_loader):\n",
    "        input_data, target_labels = batch\n",
    "        print(target_labels)\n",
    "\n",
    "print('------------------')\n",
    "\n",
    "for e in range(2):\n",
    "    for i, batch in enumerate(data_loader):\n",
    "        input_data, target_labels = batch\n",
    "        print(target_labels)\n"
   ]
  }
 ],
 "metadata": {
  "kernelspec": {
   "display_name": "Python 3",
   "language": "python",
   "name": "python3"
  },
  "language_info": {
   "codemirror_mode": {
    "name": "ipython",
    "version": 3
   },
   "file_extension": ".py",
   "mimetype": "text/x-python",
   "name": "python",
   "nbconvert_exporter": "python",
   "pygments_lexer": "ipython3",
   "version": "3.11.1"
  }
 },
 "nbformat": 4,
 "nbformat_minor": 2
}
